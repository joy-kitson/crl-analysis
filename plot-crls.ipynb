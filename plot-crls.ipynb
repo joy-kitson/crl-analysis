{
 "cells": [
  {
   "cell_type": "code",
   "execution_count": 1,
   "metadata": {},
   "outputs": [],
   "source": [
    "import pandas as pd\n",
    "import os\n",
    "import glob\n",
    "import time\n",
    "import seaborn as sns\n",
    "import matplotlib.pyplot as plt"
   ]
  },
  {
   "cell_type": "code",
   "execution_count": 2,
   "metadata": {},
   "outputs": [
    {
     "data": {
      "text/html": [
       "<div>\n",
       "<style scoped>\n",
       "    .dataframe tbody tr th:only-of-type {\n",
       "        vertical-align: middle;\n",
       "    }\n",
       "\n",
       "    .dataframe tbody tr th {\n",
       "        vertical-align: top;\n",
       "    }\n",
       "\n",
       "    .dataframe thead th {\n",
       "        text-align: right;\n",
       "    }\n",
       "</style>\n",
       "<table border=\"1\" class=\"dataframe\">\n",
       "  <thead>\n",
       "    <tr style=\"text-align: right;\">\n",
       "      <th></th>\n",
       "      <th>issuer</th>\n",
       "      <th>serial</th>\n",
       "      <th>reason</th>\n",
       "      <th>date</th>\n",
       "    </tr>\n",
       "  </thead>\n",
       "  <tbody>\n",
       "    <tr>\n",
       "      <th>0</th>\n",
       "      <td>Cloudflare, Inc.</td>\n",
       "      <td>0BDF08B0539C761C4A086C04B087EA57</td>\n",
       "      <td>None</td>\n",
       "      <td>2020-09-22 16:04:34</td>\n",
       "    </tr>\n",
       "    <tr>\n",
       "      <th>1</th>\n",
       "      <td>Cloudflare, Inc.</td>\n",
       "      <td>0C2E117FF30ABDE5D24682E5D36975B1</td>\n",
       "      <td>None</td>\n",
       "      <td>2021-01-26 09:58:23</td>\n",
       "    </tr>\n",
       "    <tr>\n",
       "      <th>2</th>\n",
       "      <td>Cloudflare, Inc.</td>\n",
       "      <td>0D8039C121686F1603EB8E1FC83AC107</td>\n",
       "      <td>None</td>\n",
       "      <td>2021-01-26 10:04:08</td>\n",
       "    </tr>\n",
       "    <tr>\n",
       "      <th>0</th>\n",
       "      <td>Google Trust Services</td>\n",
       "      <td>2684BAC8185465C20800000000715402</td>\n",
       "      <td>None</td>\n",
       "      <td>2021-05-05 08:20:48</td>\n",
       "    </tr>\n",
       "    <tr>\n",
       "      <th>1</th>\n",
       "      <td>Google Trust Services</td>\n",
       "      <td>929AE634982BBB7F0800000000715405</td>\n",
       "      <td>None</td>\n",
       "      <td>2021-05-05 08:20:49</td>\n",
       "    </tr>\n",
       "    <tr>\n",
       "      <th>...</th>\n",
       "      <td>...</td>\n",
       "      <td>...</td>\n",
       "      <td>...</td>\n",
       "      <td>...</td>\n",
       "    </tr>\n",
       "    <tr>\n",
       "      <th>26358</th>\n",
       "      <td>Amazon</td>\n",
       "      <td>06A54491A529528A6453E89D607E478C</td>\n",
       "      <td>None</td>\n",
       "      <td>2021-05-11 20:11:27</td>\n",
       "    </tr>\n",
       "    <tr>\n",
       "      <th>26359</th>\n",
       "      <td>Amazon</td>\n",
       "      <td>0665AAEE4C39A2BC178706AB3AAA4E58</td>\n",
       "      <td>None</td>\n",
       "      <td>2021-05-11 20:21:36</td>\n",
       "    </tr>\n",
       "    <tr>\n",
       "      <th>26360</th>\n",
       "      <td>Amazon</td>\n",
       "      <td>07A276A55FFC945D7FF39863D09D2B82</td>\n",
       "      <td>None</td>\n",
       "      <td>2021-05-11 20:31:29</td>\n",
       "    </tr>\n",
       "    <tr>\n",
       "      <th>26361</th>\n",
       "      <td>Amazon</td>\n",
       "      <td>0A509613F0DF41F5812A27D9CD3C172F</td>\n",
       "      <td>None</td>\n",
       "      <td>2021-05-11 20:41:34</td>\n",
       "    </tr>\n",
       "    <tr>\n",
       "      <th>26362</th>\n",
       "      <td>Amazon</td>\n",
       "      <td>0C7A1DCAE4630BB82098671FDB0D4FBA</td>\n",
       "      <td>None</td>\n",
       "      <td>2021-05-11 20:51:32</td>\n",
       "    </tr>\n",
       "  </tbody>\n",
       "</table>\n",
       "<p>33448 rows × 4 columns</p>\n",
       "</div>"
      ],
      "text/plain": [
       "                      issuer                            serial reason  \\\n",
       "0           Cloudflare, Inc.  0BDF08B0539C761C4A086C04B087EA57   None   \n",
       "1           Cloudflare, Inc.  0C2E117FF30ABDE5D24682E5D36975B1   None   \n",
       "2           Cloudflare, Inc.  0D8039C121686F1603EB8E1FC83AC107   None   \n",
       "0      Google Trust Services  2684BAC8185465C20800000000715402   None   \n",
       "1      Google Trust Services  929AE634982BBB7F0800000000715405   None   \n",
       "...                      ...                               ...    ...   \n",
       "26358                 Amazon  06A54491A529528A6453E89D607E478C   None   \n",
       "26359                 Amazon  0665AAEE4C39A2BC178706AB3AAA4E58   None   \n",
       "26360                 Amazon  07A276A55FFC945D7FF39863D09D2B82   None   \n",
       "26361                 Amazon  0A509613F0DF41F5812A27D9CD3C172F   None   \n",
       "26362                 Amazon  0C7A1DCAE4630BB82098671FDB0D4FBA   None   \n",
       "\n",
       "                     date  \n",
       "0     2020-09-22 16:04:34  \n",
       "1     2021-01-26 09:58:23  \n",
       "2     2021-01-26 10:04:08  \n",
       "0     2021-05-05 08:20:48  \n",
       "1     2021-05-05 08:20:49  \n",
       "...                   ...  \n",
       "26358 2021-05-11 20:11:27  \n",
       "26359 2021-05-11 20:21:36  \n",
       "26360 2021-05-11 20:31:29  \n",
       "26361 2021-05-11 20:41:34  \n",
       "26362 2021-05-11 20:51:32  \n",
       "\n",
       "[33448 rows x 4 columns]"
      ]
     },
     "execution_count": 2,
     "metadata": {},
     "output_type": "execute_result"
    }
   ],
   "source": [
    "df = pd.DataFrame()\n",
    "for csv in glob.glob('*.csv'):\n",
    "    tmp = pd.read_csv(csv)\n",
    "    df = df.append(tmp)\n",
    "df['date'] = pd.to_datetime(df['date'], format='%Y%m%d%H%M%SZ')\n",
    "df"
   ]
  },
  {
   "cell_type": "code",
   "execution_count": 3,
   "metadata": {},
   "outputs": [
    {
     "data": {
      "text/html": [
       "<div>\n",
       "<style scoped>\n",
       "    .dataframe tbody tr th:only-of-type {\n",
       "        vertical-align: middle;\n",
       "    }\n",
       "\n",
       "    .dataframe tbody tr th {\n",
       "        vertical-align: top;\n",
       "    }\n",
       "\n",
       "    .dataframe thead th {\n",
       "        text-align: right;\n",
       "    }\n",
       "</style>\n",
       "<table border=\"1\" class=\"dataframe\">\n",
       "  <thead>\n",
       "    <tr style=\"text-align: right;\">\n",
       "      <th></th>\n",
       "      <th>start date</th>\n",
       "      <th>end date</th>\n",
       "      <th>date range</th>\n",
       "      <th>count</th>\n",
       "      <th>count per day</th>\n",
       "    </tr>\n",
       "    <tr>\n",
       "      <th>issuer</th>\n",
       "      <th></th>\n",
       "      <th></th>\n",
       "      <th></th>\n",
       "      <th></th>\n",
       "      <th></th>\n",
       "    </tr>\n",
       "  </thead>\n",
       "  <tbody>\n",
       "    <tr>\n",
       "      <th>Amazon</th>\n",
       "      <td>2020-04-05 00:01:48</td>\n",
       "      <td>2021-05-11 20:51:32</td>\n",
       "      <td>401 days 20:49:44</td>\n",
       "      <td>26363</td>\n",
       "      <td>65.601164</td>\n",
       "    </tr>\n",
       "    <tr>\n",
       "      <th>Cloudflare, Inc.</th>\n",
       "      <td>2020-09-22 16:04:34</td>\n",
       "      <td>2021-01-26 10:04:08</td>\n",
       "      <td>125 days 17:59:34</td>\n",
       "      <td>3</td>\n",
       "      <td>0.023857</td>\n",
       "    </tr>\n",
       "    <tr>\n",
       "      <th>GlobalSign</th>\n",
       "      <td>2014-11-25 00:00:00</td>\n",
       "      <td>2019-09-30 00:00:00</td>\n",
       "      <td>1770 days 00:00:00</td>\n",
       "      <td>22</td>\n",
       "      <td>0.012429</td>\n",
       "    </tr>\n",
       "    <tr>\n",
       "      <th>GoDaddy.com, Inc.</th>\n",
       "      <td>2011-09-09 16:23:07</td>\n",
       "      <td>2019-03-20 16:15:34</td>\n",
       "      <td>2748 days 23:52:27</td>\n",
       "      <td>7044</td>\n",
       "      <td>2.562391</td>\n",
       "    </tr>\n",
       "    <tr>\n",
       "      <th>Google Trust Services</th>\n",
       "      <td>2021-05-05 08:20:48</td>\n",
       "      <td>2021-05-11 19:47:04</td>\n",
       "      <td>6 days 11:26:16</td>\n",
       "      <td>16</td>\n",
       "      <td>2.470442</td>\n",
       "    </tr>\n",
       "  </tbody>\n",
       "</table>\n",
       "</div>"
      ],
      "text/plain": [
       "                               start date            end date  \\\n",
       "issuer                                                          \n",
       "Amazon                2020-04-05 00:01:48 2021-05-11 20:51:32   \n",
       "Cloudflare, Inc.      2020-09-22 16:04:34 2021-01-26 10:04:08   \n",
       "GlobalSign            2014-11-25 00:00:00 2019-09-30 00:00:00   \n",
       "GoDaddy.com, Inc.     2011-09-09 16:23:07 2019-03-20 16:15:34   \n",
       "Google Trust Services 2021-05-05 08:20:48 2021-05-11 19:47:04   \n",
       "\n",
       "                              date range  count  count per day  \n",
       "issuer                                                          \n",
       "Amazon                 401 days 20:49:44  26363      65.601164  \n",
       "Cloudflare, Inc.       125 days 17:59:34      3       0.023857  \n",
       "GlobalSign            1770 days 00:00:00     22       0.012429  \n",
       "GoDaddy.com, Inc.     2748 days 23:52:27   7044       2.562391  \n",
       "Google Trust Services    6 days 11:26:16     16       2.470442  "
      ]
     },
     "execution_count": 3,
     "metadata": {},
     "output_type": "execute_result"
    }
   ],
   "source": [
    "issuer_df = df.groupby(['issuer'])\n",
    "start = issuer_df['date'].min()\n",
    "end = issuer_df['date'].max()\n",
    "range_df = pd.concat({'start date': start, 'end date': end}, axis=1)\n",
    "range_df['date range'] = end - start\n",
    "range_df['count'] = issuer_df.size()\n",
    "\n",
    "DAY_LENGTH = 86400\n",
    "range_df['count per day'] = range_df['count'] / \\\n",
    "    range_df['date range'].dt.total_seconds() * DAY_LENGTH\n",
    "range_df"
   ]
  },
  {
   "cell_type": "code",
   "execution_count": 4,
   "metadata": {},
   "outputs": [
    {
     "data": {
      "text/plain": [
       "issuer                 reason                \n",
       "Amazon                 None                      26363\n",
       "Cloudflare, Inc.       None                          3\n",
       "GlobalSign             Cessation Of Operation       22\n",
       "GoDaddy.com, Inc.      Affiliation Changed         115\n",
       "                       Cessation Of Operation     6750\n",
       "                       Key Compromise               11\n",
       "                       Privilege Withdrawn         113\n",
       "                       Superseded                   55\n",
       "Google Trust Services  None                         16\n",
       "dtype: int64"
      ]
     },
     "execution_count": 4,
     "metadata": {},
     "output_type": "execute_result"
    }
   ],
   "source": [
    "df.groupby(['issuer', 'reason']).size()"
   ]
  },
  {
   "cell_type": "code",
   "execution_count": 5,
   "metadata": {},
   "outputs": [
    {
     "data": {
      "image/png": "[encoded data removed]",
      "text/plain": [
       "<Figure size 1080x216 with 5 Axes>"
      ]
     },
     "metadata": {
      "needs_background": "light"
     },
     "output_type": "display_data"
    }
   ],
   "source": [
    "hist_df = df.copy()\n",
    "hist_df['date'] = pd.to_numeric(hist_df['date'])\n",
    "g = sns.FacetGrid(\n",
    "    hist_df,\n",
    "    col='issuer',\n",
    "    hue='issuer',\n",
    "    sharex=False,\n",
    "    sharey=False\n",
    ")\n",
    "fig = g.map(sns.histplot, 'date')\n",
    "fig.savefig('revocation-dates-histogram.pdf')\n",
    "#sns.displot(hist_df, x='date', row='issuer', hue='issuer')"
   ]
  },
  {
   "cell_type": "code",
   "execution_count": 6,
   "metadata": {},
   "outputs": [
    {
     "data": {
      "image/png": "[encoded data removed]",
      "text/plain": [
       "<Figure size 432x288 with 1 Axes>"
      ]
     },
     "metadata": {
      "needs_background": "light"
     },
     "output_type": "display_data"
    }
   ],
   "source": [
    "go_daddy_mask = hist_df['issuer'] == 'GoDaddy.com, Inc.'\n",
    "ax = sns.histplot(hist_df[go_daddy_mask], x='date', hue='reason', log_scale=[False,True])\n",
    "ax.figure.savefig('revocation-reasons-histogram-godaddy.pdf')"
   ]
  }
 ],
 "metadata": {
  "kernelspec": {
   "display_name": "Python 3",
   "language": "python",
   "name": "python3"
  },
  "language_info": {
   "codemirror_mode": {
    "name": "ipython",
    "version": 3
   },
   "file_extension": ".py",
   "mimetype": "text/x-python",
   "name": "python",
   "nbconvert_exporter": "python",
   "pygments_lexer": "ipython3",
   "version": "3.6.9"
  }
 },
 "nbformat": 4,
 "nbformat_minor": 2
}
